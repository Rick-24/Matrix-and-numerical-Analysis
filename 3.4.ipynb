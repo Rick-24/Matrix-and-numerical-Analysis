{
 "cells": [
  {
   "cell_type": "code",
   "execution_count": 57,
   "id": "4f9e14d4",
   "metadata": {},
   "outputs": [],
   "source": [
    "def question_4():\n",
    "    # 迭代起始点\n",
    "    x0=1\n",
    "    x = -0.7\n",
    "    f = x**3+x**2+x-3\n",
    "    df = 3*x**2+2*x+1\n",
    "    x_iter = x-f/df\n",
    "    iteration = 1\n",
    "    d = abs(x_iter-x)\n",
    "    e0 = x_iter-x0\n",
    "    p = e0/ (x-x0)**2\n",
    "    print('迭代%d次结果为：%s,差为：%s,最后一个空为：%s'%(iteration,x_iter,abs(e0),p))\n",
    "    while(iteration<7):\n",
    "        x = x_iter\n",
    "        f = x**3+x**2+x-3\n",
    "        df = 3*x**2+2*x+1\n",
    "        x_iter = x-f/df\n",
    "        iteration = iteration +1\n",
    "        e = x_iter - x0\n",
    "        p = e/ (e0*e0)\n",
    "        e0 = e\n",
    "        print('迭代%d次结果为：%s,差为：%s,最后一个空为：%s'%(iteration,x_iter,abs(e),p))\n",
    "    print('Newton迭代法，迭代结果为：',x_iter)\n",
    "    print('\\n')"
   ]
  },
  {
   "cell_type": "code",
   "execution_count": 58,
   "id": "86b113e7",
   "metadata": {},
   "outputs": [
    {
     "name": "stdout",
     "output_type": "stream",
     "text": [
      "迭代1次结果为：2.6205607476635517,差为：1.6205607476635517,最后一个空为：0.560747663551402\n",
      "迭代2次结果为：1.7084401902625614,差为：0.7084401902625614,最后一个空为：0.2697568987412368\n",
      "迭代3次结果为：1.2063786980181086,差为：0.2063786980181086,最后一个空为：0.4112050941909951\n",
      "迭代4次结果为：1.024161664125103,差为：0.02416166412510301,最后一个空为：0.5672795217855637\n",
      "迭代5次结果为：1.0003814911210203,差为：0.00038149112102026095,最后一个空为：0.6534776653306854\n",
      "迭代6次结果为：1.0000000969928142,差为：9.699281422470563e-08,最后一个空为：0.6664547866875559\n",
      "迭代7次结果为：1.0000000000000062,差为：6.217248937900877e-15,最后一个空为：0.6608747146171305\n",
      "Newton迭代法，迭代结果为： 1.0000000000000062\n",
      "\n",
      "\n"
     ]
    }
   ],
   "source": [
    "question_4()"
   ]
  },
  {
   "cell_type": "code",
   "execution_count": null,
   "id": "ad0e0d6d",
   "metadata": {},
   "outputs": [],
   "source": []
  }
 ],
 "metadata": {
  "kernelspec": {
   "display_name": "Python 3 (ipykernel)",
   "language": "python",
   "name": "python3"
  },
  "language_info": {
   "codemirror_mode": {
    "name": "ipython",
    "version": 3
   },
   "file_extension": ".py",
   "mimetype": "text/x-python",
   "name": "python",
   "nbconvert_exporter": "python",
   "pygments_lexer": "ipython3",
   "version": "3.8.12"
  },
  "varInspector": {
   "cols": {
    "lenName": 16,
    "lenType": 16,
    "lenVar": 40
   },
   "kernels_config": {
    "python": {
     "delete_cmd_postfix": "",
     "delete_cmd_prefix": "del ",
     "library": "var_list.py",
     "varRefreshCmd": "print(var_dic_list())"
    },
    "r": {
     "delete_cmd_postfix": ") ",
     "delete_cmd_prefix": "rm(",
     "library": "var_list.r",
     "varRefreshCmd": "cat(var_dic_list()) "
    }
   },
   "types_to_exclude": [
    "module",
    "function",
    "builtin_function_or_method",
    "instance",
    "_Feature"
   ],
   "window_display": false
  }
 },
 "nbformat": 4,
 "nbformat_minor": 5
}
