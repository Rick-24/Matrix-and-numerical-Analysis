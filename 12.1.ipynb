{
 "cells": [
  {
   "cell_type": "code",
   "execution_count": 6,
   "id": "ce1efc4e",
   "metadata": {
    "scrolled": true
   },
   "outputs": [
    {
     "name": "stdout",
     "output_type": "stream",
     "text": [
      "迭代1次结果为: 1.8571428571428572\n",
      "迭代2次结果为: 1.839544513457557\n",
      "迭代3次结果为: 1.8392868100680193\n",
      "迭代4次结果为: 1.8392867552141636\n",
      "迭代结果为 1.8392867552141636\n"
     ]
    }
   ],
   "source": [
    "import math\n",
    "\n",
    "# 迭代起始点\n",
    "x = 2\n",
    "f = pow(x,3)-pow(x,2)-x-1\n",
    "df = 3*pow(x,2)-2*x-1\n",
    "x_iter = x-f/df\n",
    "iteration = 1\n",
    "d = abs(x_iter-x)\n",
    "print('迭代%d次结果为:'%iteration, x_iter)\n",
    "while(d>1e-5):\n",
    "    x = x_iter\n",
    "    f = pow(x,3)-pow(x,2)-x-1\n",
    "    df = 3*pow(x,2)-2*x-1\n",
    "    x_iter = x-f/df\n",
    "    iteration = iteration +1\n",
    "    d = abs(x_iter-x)\n",
    "    print('迭代%d次结果为:'%iteration, x_iter)\n",
    "print('迭代结果为',x_iter)\n"
   ]
  },
  {
   "cell_type": "code",
   "execution_count": null,
   "id": "b90d8f54",
   "metadata": {},
   "outputs": [],
   "source": []
  }
 ],
 "metadata": {
  "kernelspec": {
   "display_name": "Python 3 (ipykernel)",
   "language": "python",
   "name": "python3"
  },
  "language_info": {
   "codemirror_mode": {
    "name": "ipython",
    "version": 3
   },
   "file_extension": ".py",
   "mimetype": "text/x-python",
   "name": "python",
   "nbconvert_exporter": "python",
   "pygments_lexer": "ipython3",
   "version": "3.8.12"
  },
  "varInspector": {
   "cols": {
    "lenName": 16,
    "lenType": 16,
    "lenVar": 40
   },
   "kernels_config": {
    "python": {
     "delete_cmd_postfix": "",
     "delete_cmd_prefix": "del ",
     "library": "var_list.py",
     "varRefreshCmd": "print(var_dic_list())"
    },
    "r": {
     "delete_cmd_postfix": ") ",
     "delete_cmd_prefix": "rm(",
     "library": "var_list.r",
     "varRefreshCmd": "cat(var_dic_list()) "
    }
   },
   "types_to_exclude": [
    "module",
    "function",
    "builtin_function_or_method",
    "instance",
    "_Feature"
   ],
   "window_display": false
  }
 },
 "nbformat": 4,
 "nbformat_minor": 5
}
