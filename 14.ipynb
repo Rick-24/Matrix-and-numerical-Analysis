{
 "cells": [
  {
   "cell_type": "code",
   "execution_count": 14,
   "id": "85541f29",
   "metadata": {},
   "outputs": [
    {
     "name": "stdout",
     "output_type": "stream",
     "text": [
      "一阶导函数为: -(-exp(x) + exp(-x))*(exp(x) - exp(-x))/(exp(x) + exp(-x))**2 值为： -0.e-248\n",
      "二阶导函数为: 2*(-(exp(x) - exp(-x))**2/(exp(x) + exp(-x))**2 + 1)*(exp(x) - exp(-x))/(exp(x) + exp(-x)) 值为： 0.e-124\n",
      "三阶导函数为: 2*(3*(exp(x) - exp(-x))**4/(exp(x) + exp(-x))**4 - 4*(exp(x) - exp(-x))**2/(exp(x) + exp(-x))**2 + 1) 值为： 2.00000000000000\n"
     ]
    }
   ],
   "source": [
    "import sympy\n",
    "\n",
    "x=sympy.Symbol('x')\n",
    "Phi_x = x - (sympy.E**x-sympy.E**-x)/(sympy.E**x+sympy.E**-x)\n",
    "d_Phi_x = sympy.diff(Phi_x, x)\n",
    "dd_Phi_x = sympy.diff(Phi_x, x, x)\n",
    "ddd_Phi_x = sympy.diff(Phi_x, x, 3)\n",
    "\n",
    "print('一阶导函数为:',d_Phi_x,'值为：',d_Phi_x.evalf(subs={x:0}))\n",
    "print('二阶导函数为:',dd_Phi_x,'值为：',dd_Phi_x.evalf(subs={x:0}))\n",
    "print('三阶导函数为:',ddd_Phi_x,'值为：',ddd_Phi_x.evalf(subs={x:0}))"
   ]
  },
  {
   "cell_type": "code",
   "execution_count": null,
   "id": "57c09807",
   "metadata": {},
   "outputs": [],
   "source": []
  }
 ],
 "metadata": {
  "kernelspec": {
   "display_name": "Python 3 (ipykernel)",
   "language": "python",
   "name": "python3"
  },
  "language_info": {
   "codemirror_mode": {
    "name": "ipython",
    "version": 3
   },
   "file_extension": ".py",
   "mimetype": "text/x-python",
   "name": "python",
   "nbconvert_exporter": "python",
   "pygments_lexer": "ipython3",
   "version": "3.8.12"
  },
  "varInspector": {
   "cols": {
    "lenName": 16,
    "lenType": 16,
    "lenVar": 40
   },
   "kernels_config": {
    "python": {
     "delete_cmd_postfix": "",
     "delete_cmd_prefix": "del ",
     "library": "var_list.py",
     "varRefreshCmd": "print(var_dic_list())"
    },
    "r": {
     "delete_cmd_postfix": ") ",
     "delete_cmd_prefix": "rm(",
     "library": "var_list.r",
     "varRefreshCmd": "cat(var_dic_list()) "
    }
   },
   "position": {
    "height": "144.852px",
    "left": "878px",
    "right": "20px",
    "top": "119px",
    "width": "350px"
   },
   "types_to_exclude": [
    "module",
    "function",
    "builtin_function_or_method",
    "instance",
    "_Feature"
   ],
   "window_display": false
  }
 },
 "nbformat": 4,
 "nbformat_minor": 5
}
