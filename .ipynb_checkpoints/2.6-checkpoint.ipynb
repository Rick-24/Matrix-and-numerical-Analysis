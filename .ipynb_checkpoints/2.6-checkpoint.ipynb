{
 "cells": [
  {
   "cell_type": "code",
   "execution_count": 34,
   "id": "d72d5888",
   "metadata": {},
   "outputs": [
    {
     "name": "stdout",
     "output_type": "stream",
     "text": [
      "n为2时：\n",
      "\n",
      "求解得到三角矩阵为\n",
      "[[ 1.000  0.500  1.000]\n",
      " [ 0.000  0.083  0.500]]\n",
      "使用Guass消元法得到的方程的解为:\n",
      "[[-2.000  6.000]]\n",
      "\n",
      "\n",
      "n为5时：\n",
      "\n",
      "求解得到三角矩阵为\n",
      "[[ 1.000  0.500  0.333  0.250  0.200  1.000]\n",
      " [ 0.000  0.083  0.083  0.075  0.067  0.500]\n",
      " [ 0.000 -0.000  0.006  0.008  0.010  0.167]\n",
      " [ 0.000  0.000  0.000  0.000  0.001  0.050]\n",
      " [ 0.000 -0.000  0.000  0.000  0.000  0.014]]\n",
      "使用Guass消元法得到的方程的解为:\n",
      "[[ 5.000 -120.000  630.000 -1120.000  630.000]]\n",
      "\n",
      "\n",
      "n为10时：\n",
      "\n",
      "求解得到三角矩阵为\n",
      "[[ 1.000  0.500  0.333  0.250  0.200  0.167  0.143  0.125  0.111  0.100\n",
      "   1.000]\n",
      " [ 0.000  0.083  0.083  0.075  0.067  0.060  0.054  0.049  0.044  0.041\n",
      "   0.500]\n",
      " [ 0.000 -0.000  0.006  0.008  0.010  0.010  0.010  0.010  0.009  0.009\n",
      "   0.167]\n",
      " [ 0.000  0.000  0.000  0.000  0.001  0.001  0.001  0.001  0.001  0.001\n",
      "   0.050]\n",
      " [ 0.000 -0.000  0.000  0.000  0.000  0.000  0.000  0.000  0.000  0.000\n",
      "   0.014]\n",
      " [ 0.000  0.000  0.000  0.000  0.000  0.000  0.000  0.000  0.000  0.000\n",
      "   0.004]\n",
      " [ 0.000 -0.000  0.000  0.000  0.000  0.000  0.000  0.000  0.000  0.000\n",
      "   0.001]\n",
      " [ 0.000  0.000  0.000  0.000  0.000  0.000  0.000  0.000  0.000  0.000\n",
      "   0.000]\n",
      " [ 0.000 -0.000  0.000  0.000  0.000 -0.000  0.000  0.000  0.000  0.000\n",
      "   0.000]\n",
      " [ 0.000  0.000  0.000  0.000  0.000  0.000  0.000  0.000  0.000  0.000\n",
      "   0.000]]\n",
      "使用Guass消元法得到的方程的解为:\n",
      "[[-9.997  989.772 -23755.134  240195.714 -1261048.597  3783198.501\n",
      "  -6725765.490  7000357.238 -3937735.418  923673.408]]\n",
      "\n",
      "\n"
     ]
    }
   ],
   "source": [
    "from numpy import *\n",
    "import numpy as np\n",
    "from scipy import linalg\n",
    "\n",
    "# 设置矩阵\n",
    "def Hilbert(n):\n",
    "    hilbert = np.zeros((n,n))\n",
    "    for i in range(n):\n",
    "        for j in range(n):\n",
    "            hilbert[i][j]=1/(i+j+1)\n",
    "    return np.mat(hilbert)\n",
    "\n",
    "def SequentialGauss(mat_a):\n",
    "    for i in range(0, (mat_a.shape[0]) - 1):\n",
    "        if mat_a[i, i] == 0:\n",
    "            print(\"中断运算：\")\n",
    "            print(mat_a)\n",
    "            break\n",
    "        else:\n",
    "            for j in range(i + 1, mat_a.shape[0]):\n",
    "                mat_a[j:j+1 , :] = mat_a[j:j+1,:] - (mat_a[j,i]/mat_a[i,i])*mat_a[i, :]\n",
    "    return mat_a\n",
    "\n",
    "# 回带过程\n",
    "def revert(new_mat):\n",
    "    #创建矩阵存放答案 初始化为0\n",
    "    x = np.mat(np.zeros(new_mat.shape[0], dtype=float))\n",
    "    number = x.shape[1] - 1\n",
    "    # print(number)\n",
    "    b = number + 1\n",
    "    x[0, number] = new_mat[number, b] / new_mat[number, number]\n",
    "    for i in range(number - 1, -1, -1):\n",
    "        try:\n",
    "            x[0, i] = (new_mat[i, b] - np.sum(np.multiply(new_mat[i, i + 1:b], x[0, i + 1:b]))) / (new_mat[i, i])\n",
    "        except:\n",
    "            print(\"错误\")\n",
    "    print(x)\n",
    "    return x\n",
    "\n",
    "np.set_printoptions(precision=3, suppress=True)\n",
    "np.set_printoptions(formatter={'float': '{: 0.3f}'.format})\n",
    "# 第一题\n",
    "# 合并两个矩阵\n",
    "for n in [2,5,10]:\n",
    "    print(\"n为%d时：\\n\"%n)\n",
    "    mat_a = Hilbert(n)\n",
    "    mat_b = np.mat(np.ones(n).T)\n",
    "    new_mat = SequentialGauss(np.hstack((mat_a, mat_b.T)))\n",
    "\n",
    "    print(\"求解得到三角矩阵为\")\n",
    "    print(new_mat)\n",
    "\n",
    "    print(\"使用Guass消元法得到的方程的解为:\")\n",
    "    revert(new_mat)\n",
    "    print('\\n')"
   ]
  },
  {
   "cell_type": "code",
   "execution_count": null,
   "id": "fc5cf831",
   "metadata": {},
   "outputs": [],
   "source": []
  }
 ],
 "metadata": {
  "kernelspec": {
   "display_name": "Python 3 (ipykernel)",
   "language": "python",
   "name": "python3"
  },
  "language_info": {
   "codemirror_mode": {
    "name": "ipython",
    "version": 3
   },
   "file_extension": ".py",
   "mimetype": "text/x-python",
   "name": "python",
   "nbconvert_exporter": "python",
   "pygments_lexer": "ipython3",
   "version": "3.8.12"
  },
  "varInspector": {
   "cols": {
    "lenName": 16,
    "lenType": 16,
    "lenVar": 40
   },
   "kernels_config": {
    "python": {
     "delete_cmd_postfix": "",
     "delete_cmd_prefix": "del ",
     "library": "var_list.py",
     "varRefreshCmd": "print(var_dic_list())"
    },
    "r": {
     "delete_cmd_postfix": ") ",
     "delete_cmd_prefix": "rm(",
     "library": "var_list.r",
     "varRefreshCmd": "cat(var_dic_list()) "
    }
   },
   "types_to_exclude": [
    "module",
    "function",
    "builtin_function_or_method",
    "instance",
    "_Feature"
   ],
   "window_display": false
  }
 },
 "nbformat": 4,
 "nbformat_minor": 5
}
