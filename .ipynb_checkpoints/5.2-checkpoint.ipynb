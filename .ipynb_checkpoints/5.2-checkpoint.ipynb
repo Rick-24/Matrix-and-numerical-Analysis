{
 "cells": [
  {
   "cell_type": "code",
   "execution_count": 21,
   "id": "f511a6da",
   "metadata": {},
   "outputs": [
    {
     "name": "stdout",
     "output_type": "stream",
     "text": [
      "mu: [pi/2, pi**2/8, pi**3/24, pi**4/64]\n",
      "orthognal: pi**4*x**2/192 - pi**5*x/384 + pi**6/4608\n",
      "Gauss点: [pi*(3 - sqrt(3))/12, pi*(sqrt(3) + 3)/12]\n",
      "插值系数： [-1.36034952317567, 1.36034952317567]\n",
      "2点Gauss求积公式值为： 0.538666793793246\n",
      "\n",
      "\n",
      "mu: [pi/2, pi**2/8, pi**3/24, pi**4/64, pi**5/160, pi**6/384]\n",
      "orthognal: pi**9*x**3/1105920 - pi**10*x**2/1474560 + pi**11*x/7372800 - pi**12/176947200\n",
      "Gauss点: [pi/4, pi*(1/4 - sqrt(15)/20), pi*(sqrt(15)/20 + 1/4)]\n",
      "插值系数： [1.74532925199434, -1.88660929499057, 0.141280042996236]\n",
      "3点Gauss求积公式值为： 0.751406059297208\n",
      "\n",
      "\n",
      "mu: [pi/2, pi**2/8, pi**3/24, pi**4/64, pi**5/160, pi**6/384, pi**7/896, pi**8/2048, pi**9/4608, pi**10/10240]\n",
      "orthognal: pi**25*x**5/8949530728857600000 - pi**26*x**4/7159624583086080000 + pi**27*x**3/16109155311943680000 - pi**28*x**2/85915494997032960000 + pi**29*x/1202816929958461440000 - pi**30/72169015797507686400000\n",
      "Gauss点: [pi/4, pi*(1/4 - sqrt(5/144 - sqrt(70)/504)), pi*(1/4 - sqrt(sqrt(70)/504 + 5/144)), pi*(sqrt(5/144 - sqrt(70)/504) + 1/4), pi*(sqrt(sqrt(70)/504 + 5/144) + 1/4)]\n",
      "插值系数： [-0.390953752446857, 1.77888400015943, -2.25086412449482, 0.796795841867506, 0.0661380349147440]\n",
      "5点Gauss求积公式值为： 0.459265425265467\n",
      "\n",
      "\n",
      "0.467401100272340\n"
     ]
    }
   ],
   "source": [
    "import sympy\n",
    "\n",
    "\n",
    "def mu(n, start, end):\n",
    "    x = sympy.Symbol('x')\n",
    "    f_x = 1\n",
    "    mu = []\n",
    "    mu.append(sympy.pi/2)\n",
    "    for i in range(1, 2*n):\n",
    "        f_x = f_x*x\n",
    "        result = sympy.integrate(f_x, (x, start, end))\n",
    "        mu.append(result)\n",
    "    return mu\n",
    "\n",
    "\n",
    "def solve_of_orthogonal_polynomial(n,mus):\n",
    "    x = sympy.Symbol('x')\n",
    "#     orthognrange.append(x)\n",
    "#     orthognal.append(0.5*(3*x**2-1))\n",
    "#     orthognal.append(0.5*(5*x**3-3*x))\n",
    "#     orthognal.append(0.125*(35*x**4-30*x**2+3))\n",
    "#     orthognal.append(0.125*(63*x**5-70*x**3+15*x))\n",
    "    det = []\n",
    "    f_x = 1\n",
    "    for i in range(n+1):\n",
    "        row = []\n",
    "        for j in range(n):\n",
    "             row.append(mus[i+j])\n",
    "        row.append(f_x)\n",
    "        det.append(row)\n",
    "        f_x = f_x *x\n",
    "    orthognal = sympy.Matrix(det).det()\n",
    "    print('正交多项式:',orthognal)\n",
    "    return sympy.solve(orthognal, x)\n",
    "\n",
    "\n",
    "def solve_of_coefficient(x_k, start, end):\n",
    "    n = len(x_k)\n",
    "    A = []\n",
    "    for i in range(n):\n",
    "        A.append(sympy.Symbol('A'+str(i)))\n",
    "\n",
    "    f_x = 1\n",
    "    x = sympy.Symbol('x')\n",
    "    equations = []\n",
    "    equation = 0\n",
    "    for i in range(n):\n",
    "        equation = equation+A[i]\n",
    "    equations.append(equation)\n",
    "    for i in range(1, n):\n",
    "        f_x = f_x*x\n",
    "        result = sympy.integrate(f_x, (x, start, end))\n",
    "        equation = 0\n",
    "        for i in range(n):\n",
    "            equation = equation + f_x.evalf(subs={x: x_k[i]})*A[i]\n",
    "        equation = equation - result\n",
    "        equations.append(equation)\n",
    "    A_value = sympy.solve(equations, A)\n",
    "\n",
    "    coffients = []\n",
    "    for value in A_value.values():\n",
    "        coffients.append(value)\n",
    "    return coffients\n",
    "\n",
    "\n",
    "def gauss(f_x, n):\n",
    "    mus = mu(n,0,sympy.pi/2)\n",
    "    print('mu:',mus)\n",
    "    x_k = solve_of_orthogonal_polynomial(n,mus)\n",
    "    print('Gauss点:', x_k)\n",
    "    coffients = solve_of_coefficient(x_k, 0, sympy.pi/2)\n",
    "    print('插值系数：', coffients)\n",
    "\n",
    "    result = 0\n",
    "    for i in range(n):\n",
    "        result = result + f_x.evalf(subs={x: x_k[i]})*coffients[i]\n",
    "    print('%d点Gauss求积公式值为：' % n, result)\n",
    "    print('\\n')\n",
    "    return result\n",
    "\n",
    "\n",
    "x = sympy.Symbol('x')\n",
    "f_x = x**2*sympy.cos(x)\n",
    "for n in [2, 3, 5]:\n",
    "    result = gauss(f_x, n)\n",
    "\n",
    "result = sympy.integrate(f_x, (x, 0, np.pi/2))\n",
    "print(result)\n"
   ]
  },
  {
   "cell_type": "code",
   "execution_count": 18,
   "id": "626f389a",
   "metadata": {},
   "outputs": [
    {
     "name": "stdout",
     "output_type": "stream",
     "text": [
      "0.4674011002723395\n"
     ]
    }
   ],
   "source": [
    "print(np.pi/2*np.pi/2-2)"
   ]
  },
  {
   "cell_type": "code",
   "execution_count": null,
   "id": "aaccc43d",
   "metadata": {},
   "outputs": [],
   "source": []
  }
 ],
 "metadata": {
  "kernelspec": {
   "display_name": "Python 3 (ipykernel)",
   "language": "python",
   "name": "python3"
  },
  "language_info": {
   "codemirror_mode": {
    "name": "ipython",
    "version": 3
   },
   "file_extension": ".py",
   "mimetype": "text/x-python",
   "name": "python",
   "nbconvert_exporter": "python",
   "pygments_lexer": "ipython3",
   "version": "3.8.12"
  },
  "varInspector": {
   "cols": {
    "lenName": 16,
    "lenType": 16,
    "lenVar": 40
   },
   "kernels_config": {
    "python": {
     "delete_cmd_postfix": "",
     "delete_cmd_prefix": "del ",
     "library": "var_list.py",
     "varRefreshCmd": "print(var_dic_list())"
    },
    "r": {
     "delete_cmd_postfix": ") ",
     "delete_cmd_prefix": "rm(",
     "library": "var_list.r",
     "varRefreshCmd": "cat(var_dic_list()) "
    }
   },
   "types_to_exclude": [
    "module",
    "function",
    "builtin_function_or_method",
    "instance",
    "_Feature"
   ],
   "window_display": false
  }
 },
 "nbformat": 4,
 "nbformat_minor": 5
}
