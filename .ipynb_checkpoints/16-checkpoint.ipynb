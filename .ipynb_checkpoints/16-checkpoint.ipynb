{
 "cells": [
  {
   "cell_type": "code",
   "execution_count": 5,
   "id": "23c1577b",
   "metadata": {},
   "outputs": [
    {
     "name": "stdout",
     "output_type": "stream",
     "text": [
      "迭代1次结果为: 1.4666666666666668\n",
      "迭代2次结果为: 1.3715120138059207\n",
      "迭代3次结果为: 1.3688102226338952\n",
      "迭代4次结果为: 1.3688081078226673\n",
      "迭代结果为 1.3688081078226673\n"
     ]
    }
   ],
   "source": [
    "import math\n",
    "\n",
    "# 迭代起始点\n",
    "x = 2 \n",
    "f = pow(x, 3) + 2*pow(x, 2)+10*x-20\n",
    "df = 3*pow(x, 2)+4*x + 10\n",
    "x_iter = x-f/df\n",
    "iteration = 1\n",
    "d = abs(x_iter-x)\n",
    "print('迭代%d次结果为:' % iteration, x_iter)\n",
    "while(d > 1e-5):\n",
    "    x = x_iter\n",
    "    f = pow(x, 3)+2*pow(x, 2)+10*x-20\n",
    "    df = 3*pow(x, 2)+4*x + 10\n",
    "    x_iter = x-f/df\n",
    "    iteration = iteration + 1\n",
    "    d = abs(x_iter-x)\n",
    "    print('迭代%d次结果为:' % iteration, x_iter)\n",
    "print('迭代结果为', x_iter)"
   ]
  },
  {
   "cell_type": "code",
   "execution_count": null,
   "id": "9c443a44",
   "metadata": {},
   "outputs": [],
   "source": []
  }
 ],
 "metadata": {
  "kernelspec": {
   "display_name": "Python 3 (ipykernel)",
   "language": "python",
   "name": "python3"
  },
  "language_info": {
   "codemirror_mode": {
    "name": "ipython",
    "version": 3
   },
   "file_extension": ".py",
   "mimetype": "text/x-python",
   "name": "python",
   "nbconvert_exporter": "python",
   "pygments_lexer": "ipython3",
   "version": "3.8.12"
  },
  "varInspector": {
   "cols": {
    "lenName": 16,
    "lenType": 16,
    "lenVar": 40
   },
   "kernels_config": {
    "python": {
     "delete_cmd_postfix": "",
     "delete_cmd_prefix": "del ",
     "library": "var_list.py",
     "varRefreshCmd": "print(var_dic_list())"
    },
    "r": {
     "delete_cmd_postfix": ") ",
     "delete_cmd_prefix": "rm(",
     "library": "var_list.r",
     "varRefreshCmd": "cat(var_dic_list()) "
    }
   },
   "types_to_exclude": [
    "module",
    "function",
    "builtin_function_or_method",
    "instance",
    "_Feature"
   ],
   "window_display": false
  }
 },
 "nbformat": 4,
 "nbformat_minor": 5
}
