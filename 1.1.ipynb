{
 "cells": [
  {
   "cell_type": "code",
   "execution_count": 6,
   "id": "96f96fff",
   "metadata": {},
   "outputs": [
    {
     "name": "stdout",
     "output_type": "stream",
     "text": [
      "n为100时,从大到小计算S:(0.7400495049504949,),从小到大计算S:0.7400495049504949,精确解S:0.740049504950495\n",
      "n为10000时,从大到小计算S:(0.7499000049995057,),从小到大计算S:0.7499000049995,精确解S:0.7499000049995\n",
      "n为1000000时,从大到小计算S:(0.7499990000005217,),从小到大计算S:0.7499990000004999,精确解S:0.7499990000005\n"
     ]
    }
   ],
   "source": [
    "# 第一问\n",
    "def question_1(n):\n",
    "    S = 0\n",
    "    for i in range(2,n+1):\n",
    "        S = S +1/(float(pow(i,2)-1))\n",
    "    return S\n",
    "\n",
    "# 第二问\n",
    "def question_2(n):\n",
    "    S = 0\n",
    "    for i in range(n,1,-1):\n",
    "        S = S +1/(float(pow(i,2)-1))\n",
    "    return S\n",
    "\n",
    "# 第三问\n",
    "def question_3(n):\n",
    "    # 求精确解\n",
    "    S = (1.5-1/n - 1/(n+1))/2\n",
    "    return S\n",
    "\n",
    "test=[pow(10,2),pow(10,4),pow(10,6)]\n",
    "for t in test:\n",
    "    b2s=question_1(t),\n",
    "    s2b=question_2(t)\n",
    "    real=question_3(t)\n",
    "    print(f'n为{t}时,从大到小计算S:{b2s},从小到大计算S:{s2b},精确解S:{real}')\n"
   ]
  },
  {
   "cell_type": "code",
   "execution_count": null,
   "id": "fc878356",
   "metadata": {},
   "outputs": [],
   "source": []
  }
 ],
 "metadata": {
  "kernelspec": {
   "display_name": "Python 3 (ipykernel)",
   "language": "python",
   "name": "python3"
  },
  "language_info": {
   "codemirror_mode": {
    "name": "ipython",
    "version": 3
   },
   "file_extension": ".py",
   "mimetype": "text/x-python",
   "name": "python",
   "nbconvert_exporter": "python",
   "pygments_lexer": "ipython3",
   "version": "3.8.12"
  },
  "varInspector": {
   "cols": {
    "lenName": 16,
    "lenType": 16,
    "lenVar": 40
   },
   "kernels_config": {
    "python": {
     "delete_cmd_postfix": "",
     "delete_cmd_prefix": "del ",
     "library": "var_list.py",
     "varRefreshCmd": "print(var_dic_list())"
    },
    "r": {
     "delete_cmd_postfix": ") ",
     "delete_cmd_prefix": "rm(",
     "library": "var_list.r",
     "varRefreshCmd": "cat(var_dic_list()) "
    }
   },
   "types_to_exclude": [
    "module",
    "function",
    "builtin_function_or_method",
    "instance",
    "_Feature"
   ],
   "window_display": false
  }
 },
 "nbformat": 4,
 "nbformat_minor": 5
}
