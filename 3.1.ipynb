{
 "cells": [
  {
   "cell_type": "code",
   "execution_count": 53,
   "id": "975cb4f9",
   "metadata": {},
   "outputs": [
    {
     "name": "stdout",
     "output_type": "stream",
     "text": [
      "迭代1次结果为: 3.096551724137931\n",
      "迭代2次结果为: 2.2418191861623007\n",
      "迭代3次结果为: 1.7518649172492293\n",
      "迭代4次结果为: 1.5286884817426767\n",
      "迭代5次结果为: 1.4731194546027908\n",
      "迭代6次结果为: 1.4696309386556927\n",
      "迭代7次结果为: 1.4696174342600918\n",
      "迭代8次结果为: 1.469617434058037\n",
      "Newton迭代法，迭代结果为： 1.469617434058037\n",
      "\n",
      "\n",
      "迭代1次结果为: 3.4413793103448276\n",
      "迭代2次结果为: 2.8079529376378494\n",
      "迭代3次结果为: 2.227098837050374\n",
      "迭代4次结果为: 1.8669025588439334\n",
      "迭代5次结果为: 1.6353387015995906\n",
      "迭代6次结果为: 1.5183819202463293\n",
      "迭代7次结果为: 1.477145845279861\n",
      "迭代8次结果为: 1.4700049324099533\n",
      "迭代9次结果为: 1.4696206437953265\n",
      "迭代10次结果为: 1.4696174354355822\n",
      "割线法，迭代结果为： 1.4696174354355822\n",
      "\n",
      "\n",
      "迭代1次结果为: -3.794018912491951\n",
      "迭代2次结果为: -0.5560142485903636\n",
      "迭代3次结果为: 1.0853721127373799\n",
      "迭代4次结果为: 0.4307182595273019\n",
      "迭代5次结果为: 0.11588880479124597\n",
      "迭代6次结果为: 0.011616746952539794\n",
      "迭代7次结果为: 0.00013288849541101024\n",
      "迭代8次结果为: 1.7656223765943066e-08\n",
      "迭代9次结果为: 3.1174222759187686e-16\n",
      "Newton迭代法，迭代结果为： 3.1174222759187686e-16\n",
      "\n",
      "\n",
      "迭代1次结果为: -3.794018912491951\n",
      "迭代2次结果为: -3.675911442839354\n",
      "迭代3次结果为: -1.686194644580191\n",
      "迭代4次结果为: -3.5455714373139244\n",
      "迭代5次结果为: -3.4376141092045502\n",
      "迭代6次结果为: -2.9224961927892448\n",
      "迭代7次结果为: -3.208378817297416\n",
      "迭代8次结果为: -3.15478853460021\n",
      "迭代9次结果为: -3.1406621210266565\n",
      "迭代10次结果为: -3.141605033760397\n",
      "迭代11次结果为: -3.141592665102897\n",
      "迭代12次结果为: -3.1415926535896506\n",
      "割线法，迭代结果为： -3.1415926535896506\n",
      "\n",
      "\n"
     ]
    }
   ],
   "source": [
    "import math\n",
    "\n",
    "def question_1_1():\n",
    "    # 迭代起始点\n",
    "    x = 5\n",
    "    f = 2*x**3+5*x+1\n",
    "    df = 6*x**2-5\n",
    "    x_iter = x-f/df\n",
    "    iteration = 1\n",
    "    d = abs(x_iter-x)\n",
    "    print('迭代%d次结果为:'%iteration, x_iter)\n",
    "    while(d>1e-5):\n",
    "        x = x_iter\n",
    "        f = 2*x**3-5*x+1\n",
    "        df = 6*x**2-5\n",
    "        x_iter = x-f/df\n",
    "        iteration = iteration +1\n",
    "        d = abs(x_iter-x)\n",
    "        print('迭代%d次结果为:'%iteration, x_iter)\n",
    "    print('Newton迭代法，迭代结果为：',x_iter)\n",
    "    print('\\n')\n",
    "\n",
    "def question_1_2():\n",
    "    # 迭代起始点\n",
    "    x = 5\n",
    "    f = 2*x**3-5*x+1\n",
    "    df = 6*x**2-5\n",
    "    x_iter = x-f/df\n",
    "    iteration = 1\n",
    "    d = abs(x_iter-x)\n",
    "    print('迭代%d次结果为:'%iteration, x_iter)\n",
    "    while(d>1e-5):\n",
    "        f = 2*x**3-5*x+1      \n",
    "        f_k = 2*x_iter**3-5*x_iter+1\n",
    "        temp = x_iter\n",
    "        x_iter = x_iter-f_k/(f_k-f)*(x_iter-x)\n",
    "        x = temp\n",
    "        iteration = iteration +1\n",
    "        d = abs(x_iter-x)\n",
    "        print('迭代%d次结果为:'%iteration, x_iter)\n",
    "    print('割线法，迭代结果为：',x_iter)\n",
    "    print('\\n')\n",
    "    \n",
    "def question_2_1():\n",
    "    # 迭代起始点\n",
    "    x = -1\n",
    "    f = math.exp(x)*math.sin(x)\n",
    "    df = math.exp(x)*(math.sin(x)+math.cos(x))\n",
    "    x_iter = x-f/df\n",
    "    iteration = 1\n",
    "    d = abs(x_iter-x)\n",
    "    print('迭代%d次结果为:'%iteration, x_iter)\n",
    "    while(d>1e-5 or x_iter>3 or x_iter<-4):\n",
    "        x = x_iter\n",
    "        f = math.exp(x)*math.sin(x)\n",
    "        df = math.exp(x)*(math.sin(x)+math.cos(x))\n",
    "        x_iter = x-f/df\n",
    "        iteration = iteration +1\n",
    "        d = abs(x_iter-x)\n",
    "        print('迭代%d次结果为:'%iteration, x_iter)\n",
    "    print('Newton迭代法，迭代结果为：',x_iter)\n",
    "    print('\\n')\n",
    "\n",
    "def question_2_2():\n",
    "        # 迭代起始点\n",
    "    x = -1\n",
    "    f = math.exp(x)*math.sin(x)\n",
    "    df = math.exp(x)*(math.sin(x)+math.cos(x))\n",
    "    x_iter = x-f/df\n",
    "    iteration = 1\n",
    "    d = abs(x_iter-x)\n",
    "    print('迭代%d次结果为:'%iteration, x_iter)\n",
    "    while(d>1e-5 or x_iter>3 or x_iter<-4):\n",
    "        f = math.exp(x)*math.sin(x)        \n",
    "        f_k = math.exp(x_iter)*math.sin(x_iter)\n",
    "        temp = x_iter\n",
    "        x_iter = x_iter-f_k/(f_k-f)*(x_iter-x)\n",
    "        x = temp\n",
    "        iteration = iteration +1\n",
    "        d = abs(x_iter-x)\n",
    "        print('迭代%d次结果为:'%iteration, x_iter)\n",
    "    print('割线法，迭代结果为：',x_iter)\n",
    "    print('\\n')\n",
    "question_1_1()\n",
    "question_1_2()\n",
    "question_2_1()\n",
    "question_2_2()"
   ]
  },
  {
   "cell_type": "code",
   "execution_count": 54,
   "id": "5e137a77",
   "metadata": {},
   "outputs": [
    {
     "data": {
      "image/png": "[encoded data removed]",
      "text/plain": [
       "<Figure size 432x288 with 1 Axes>"
      ]
     },
     "metadata": {
      "needs_background": "light"
     },
     "output_type": "display_data"
    }
   ],
   "source": [
    "import matplotlib.pyplot as plt\n",
    "\n",
    "x = np.arange(1, 2, 0.01)\n",
    "y = 2*x*x*x - 5*x +1\n",
    "\n",
    "plt.plot(x,y)\n",
    "plt.show()"
   ]
  },
  {
   "cell_type": "code",
   "execution_count": null,
   "id": "0a76f665",
   "metadata": {},
   "outputs": [],
   "source": []
  }
 ],
 "metadata": {
  "kernelspec": {
   "display_name": "Python 3 (ipykernel)",
   "language": "python",
   "name": "python3"
  },
  "language_info": {
   "codemirror_mode": {
    "name": "ipython",
    "version": 3
   },
   "file_extension": ".py",
   "mimetype": "text/x-python",
   "name": "python",
   "nbconvert_exporter": "python",
   "pygments_lexer": "ipython3",
   "version": "3.8.12"
  },
  "varInspector": {
   "cols": {
    "lenName": 16,
    "lenType": 16,
    "lenVar": 40
   },
   "kernels_config": {
    "python": {
     "delete_cmd_postfix": "",
     "delete_cmd_prefix": "del ",
     "library": "var_list.py",
     "varRefreshCmd": "print(var_dic_list())"
    },
    "r": {
     "delete_cmd_postfix": ") ",
     "delete_cmd_prefix": "rm(",
     "library": "var_list.r",
     "varRefreshCmd": "cat(var_dic_list()) "
    }
   },
   "types_to_exclude": [
    "module",
    "function",
    "builtin_function_or_method",
    "instance",
    "_Feature"
   ],
   "window_display": false
  }
 },
 "nbformat": 4,
 "nbformat_minor": 5
}
